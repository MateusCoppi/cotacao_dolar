{
 "cells": [
  {
   "cell_type": "code",
   "execution_count": 22,
   "metadata": {},
   "outputs": [],
   "source": [
    "from pyspark.sql import functions\n",
    "from pyspark.sql import SparkSession\n",
    "import os \n",
    "import sys\n",
    "\n",
    "PATH_ROOT_PROJECT = '/home/mateus_coppi/Documents/apache-airflow/'\n",
    "PATH_MINIO_CONNECTION = f\"{PATH_ROOT_PROJECT}/scripts\"\n",
    "\n",
    "sys.path.append(os.path.abspath(PATH_MINIO_CONNECTION))\n",
    "sys.path.append(os.path.abspath(PATH_MINIO_CONNECTION))"
   ]
  },
  {
   "cell_type": "code",
   "execution_count": 23,
   "metadata": {},
   "outputs": [],
   "source": [
    "from minio_connection import MinionConnection"
   ]
  },
  {
   "cell_type": "code",
   "execution_count": 24,
   "metadata": {},
   "outputs": [],
   "source": [
    "s3 = MinionConnection(access_key=\"mateus1234\", secret_key=\"cofre1234\", host_name=\"localhost:9000\")"
   ]
  },
  {
   "cell_type": "code",
   "execution_count": 25,
   "metadata": {},
   "outputs": [
    {
     "name": "stdout",
     "output_type": "stream",
     "text": [
      "Buckets Encontrados: [Bucket('distribuicao-renda-gov'), Bucket('dolar-bucket-bronze'), Bucket('silver')]\n"
     ]
    }
   ],
   "source": [
    "s3.lista_buckets()"
   ]
  },
  {
   "cell_type": "code",
   "execution_count": 26,
   "metadata": {},
   "outputs": [
    {
     "ename": "AttributeError",
     "evalue": "'MinionConnection' object has no attribute 'get_csv_objects'",
     "output_type": "error",
     "traceback": [
      "\u001b[0;31m---------------------------------------------------------------------------\u001b[0m",
      "\u001b[0;31mAttributeError\u001b[0m                            Traceback (most recent call last)",
      "Cell \u001b[0;32mIn[26], line 1\u001b[0m\n\u001b[0;32m----> 1\u001b[0m \u001b[43ms3\u001b[49m\u001b[38;5;241;43m.\u001b[39;49m\u001b[43mget_csv_objects\u001b[49m(\u001b[38;5;124m'\u001b[39m\u001b[38;5;124mdistribuicao-renda-gov\u001b[39m\u001b[38;5;124m'\u001b[39m)\n",
      "\u001b[0;31mAttributeError\u001b[0m: 'MinionConnection' object has no attribute 'get_csv_objects'"
     ]
    }
   ],
   "source": [
    "s3.get_csv_objects('distribuicao-renda-gov')"
   ]
  },
  {
   "cell_type": "code",
   "execution_count": null,
   "metadata": {},
   "outputs": [],
   "source": []
  }
 ],
 "metadata": {
  "kernelspec": {
   "display_name": "venv",
   "language": "python",
   "name": "python3"
  },
  "language_info": {
   "codemirror_mode": {
    "name": "ipython",
    "version": 3
   },
   "file_extension": ".py",
   "mimetype": "text/x-python",
   "name": "python",
   "nbconvert_exporter": "python",
   "pygments_lexer": "ipython3",
   "version": "3.10.12"
  }
 },
 "nbformat": 4,
 "nbformat_minor": 2
}
